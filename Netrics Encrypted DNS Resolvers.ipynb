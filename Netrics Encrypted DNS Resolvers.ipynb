{
 "cells": [
  {
   "cell_type": "code",
   "execution_count": 37,
   "metadata": {},
   "outputs": [],
   "source": [
    "INFLUX_URL= {\"https://us-east-1-1.aws.cloud2.influxdata.com\"}\n",
    "INFLUX_TOKEN= {\"EJJ85kHKf8jhgDobh7uPfd4ZKfPUspVpfLRpuqKW2mF0GUsNSyOGsDmW15EcyrrJp_cO3JMur4wgeoYolWEeKA==\"}\n",
    "INFLUX_ORG= {\"ranyasharma2004@gmail.com\"}"
   ]
  },
  {
   "cell_type": "code",
   "execution_count": 38,
   "metadata": {},
   "outputs": [
    {
     "ename": "TypeError",
     "evalue": "__init__() got an unexpected keyword argument 'url'",
     "output_type": "error",
     "traceback": [
      "\u001b[0;31m---------------------------------------------------------------------------\u001b[0m",
      "\u001b[0;31mTypeError\u001b[0m                                 Traceback (most recent call last)",
      "\u001b[0;32m<ipython-input-38-dba9aa02f272>\u001b[0m in \u001b[0;36m<module>\u001b[0;34m\u001b[0m\n\u001b[1;32m     12\u001b[0m client = InfluxDBClient (url = os.getenv(\"INFLUX_URL\"), \n\u001b[1;32m     13\u001b[0m                          \u001b[0mtoken\u001b[0m \u001b[0;34m=\u001b[0m \u001b[0mos\u001b[0m\u001b[0;34m.\u001b[0m\u001b[0mgetenv\u001b[0m\u001b[0;34m(\u001b[0m\u001b[0;34m\"INFLUX_TOKEN\"\u001b[0m\u001b[0;34m)\u001b[0m\u001b[0;34m,\u001b[0m\u001b[0;34m\u001b[0m\u001b[0;34m\u001b[0m\u001b[0m\n\u001b[0;32m---> 14\u001b[0;31m                          \u001b[0morg\u001b[0m \u001b[0;34m=\u001b[0m \u001b[0mos\u001b[0m\u001b[0;34m.\u001b[0m\u001b[0mgetenv\u001b[0m\u001b[0;34m(\u001b[0m\u001b[0;34m\"INFLUX_ORG\"\u001b[0m\u001b[0;34m)\u001b[0m\u001b[0;34m\u001b[0m\u001b[0;34m\u001b[0m\u001b[0m\n\u001b[0m\u001b[1;32m     15\u001b[0m                          )\n\u001b[1;32m     16\u001b[0m \u001b[0;34m\u001b[0m\u001b[0m\n",
      "\u001b[0;31mTypeError\u001b[0m: __init__() got an unexpected keyword argument 'url'"
     ]
    }
   ],
   "source": [
    "import os\n",
    "from influxdb import InfluxDBClient, DataFrameClient  \n",
    "fquery = \"\"\"\n",
    "from(bucket:\"netrics-prod0\")\n",
    " |> range(start: 2021-10-01, stop: now())\n",
    " |> filter(fn: (r) => r._field == \"lan_bw_server_mbps\" or r._field == \"speedtest_ndt7_download\"\n",
    "                     or r._field == \"speedtest_ndt7_upload\")\n",
    " |> drop(columns:[\"meta_extended\", \"meta_extended_debhash\", \"meta_extended_dataver\", \"env\", \"_start\", \"_stop\"])\n",
    " |> sort(columns:[\"_time\"])\n",
    "\"\"\"\n",
    "\n",
    "client = InfluxDBClient (url = os.getenv(\"INFLUX_URL\"), \n",
    "                         token = os.getenv(\"INFLUX_TOKEN\"),\n",
    "                         org = os.getenv(\"INFLUX_ORG\")\n",
    "                         )\n",
    "                        \n",
    "result = client.query_api().query_data_frame(fquery)\n",
    "result['device_id'] = result['install'].str[-4:]\n",
    "print(result.shape)\n",
    "result.head()"
   ]
  },
  {
   "cell_type": "code",
   "execution_count": null,
   "metadata": {},
   "outputs": [],
   "source": []
  },
  {
   "cell_type": "code",
   "execution_count": null,
   "metadata": {},
   "outputs": [],
   "source": []
  }
 ],
 "metadata": {
  "kernelspec": {
   "display_name": "Python 3",
   "language": "python",
   "name": "python3"
  },
  "language_info": {
   "codemirror_mode": {
    "name": "ipython",
    "version": 3
   },
   "file_extension": ".py",
   "mimetype": "text/x-python",
   "name": "python",
   "nbconvert_exporter": "python",
   "pygments_lexer": "ipython3",
   "version": "3.7.4"
  }
 },
 "nbformat": 4,
 "nbformat_minor": 2
}
